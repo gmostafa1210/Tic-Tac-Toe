{
 "cells": [
  {
   "cell_type": "code",
   "execution_count": 1,
   "metadata": {},
   "outputs": [],
   "source": [
    "# import functions\n",
    "\n",
    "from IPython.display import clear_output\n",
    "import random"
   ]
  },
  {
   "cell_type": "code",
   "execution_count": 2,
   "metadata": {},
   "outputs": [],
   "source": [
    "# display the board\n",
    "\n",
    "def display_board(board):\n",
    "    clear_output()\n",
    "    print('     |     |    ')\n",
    "    print('  '+board[7]+'  |  '+board[8]+'  |  '+board[9])\n",
    "    print('_____|_____|_____')\n",
    "    print('     |     |     ')\n",
    "    print('  '+board[4]+'  |  '+board[5]+'  |  '+board[6])\n",
    "    print('_____|_____|_____')\n",
    "    print('     |     |     ')\n",
    "    print('  '+board[1]+'  |  '+board[2]+'  |  '+board[3])\n",
    "    print('     |     |     ')"
   ]
  },
  {
   "cell_type": "code",
   "execution_count": 3,
   "metadata": {},
   "outputs": [],
   "source": [
    "# assign X and Y on board\n",
    "\n",
    "def place_marker(board, marker, position):\n",
    "    board[position] = marker"
   ]
  },
  {
   "cell_type": "code",
   "execution_count": 4,
   "metadata": {},
   "outputs": [],
   "source": [
    "# checking all possible winning conditians\n",
    "\n",
    "def win_check(board, mark):\n",
    "    return ((board[7] == board[8] == board[9] == mark) or # row\n",
    "            (board[4] == board[5] == board[6] == mark) or # row\n",
    "            (board[1] == board[2] == board[3] == mark) or # row\n",
    "            (board[7] == board[4] == board[1] == mark) or # column\n",
    "            (board[8] == board[5] == board[2] == mark) or # column\n",
    "            (board[9] == board[6] == board[3] == mark) or # column\n",
    "            (board[7] == board[5] == board[3] == mark) or # diagonal\n",
    "            (board[9] == board[5] == board[1] == mark))   # diagonal"
   ]
  },
  {
   "cell_type": "code",
   "execution_count": 5,
   "metadata": {},
   "outputs": [],
   "source": [
    "# check the selected position is empty or not in the board\n",
    "\n",
    "def space_check(board, position):\n",
    "    return board[position] == ' '"
   ]
  },
  {
   "cell_type": "code",
   "execution_count": 6,
   "metadata": {},
   "outputs": [],
   "source": [
    "# check the full board\n",
    "\n",
    "def full_board_check(board):\n",
    "    for i in range(1,10):\n",
    "        if space_check(board, i):\n",
    "            return False\n",
    "    else:\n",
    "        return True"
   ]
  },
  {
   "cell_type": "code",
   "execution_count": 7,
   "metadata": {},
   "outputs": [],
   "source": [
    "# player position choice on board\n",
    "\n",
    "def player_choice(board):\n",
    "    position = 0\n",
    "    while position not in [1,2,3,4,5,6,7,8,9] or not space_check(board, position):\n",
    "        position = int(input('Choose your next position: (1-9) '))\n",
    "    return position"
   ]
  },
  {
   "cell_type": "code",
   "execution_count": 8,
   "metadata": {},
   "outputs": [],
   "source": [
    "# play again\n",
    "\n",
    "def replay():\n",
    "    choice = ''\n",
    "    while choice != 'Y' and choice != 'y':\n",
    "        choice = input(\"Enter 'Y' for play again or any key to exit: \")\n",
    "        return choice.upper() == 'Y' "
   ]
  },
  {
   "cell_type": "code",
   "execution_count": 9,
   "metadata": {},
   "outputs": [
    {
     "name": "stdout",
     "output_type": "stream",
     "text": [
      "     |     |    \n",
      "  O  |  O  |  O\n",
      "_____|_____|_____\n",
      "     |     |     \n",
      "  X  |  X  |   \n",
      "_____|_____|_____\n",
      "     |     |     \n",
      "  X  |     |   \n",
      "     |     |     \n",
      "Player 2 has won!\n",
      "Enter 'Y' for play again or any key to exit: exit\n"
     ]
    }
   ],
   "source": [
    "# main function\n",
    "\n",
    "print(\"Let's play TIC TAC TOE!\")\n",
    "\n",
    "# while loop to play the game again and again\n",
    "while True:\n",
    "    \n",
    "    # set up everything: board\n",
    "    my_board = [' '] * 10\n",
    "    player = ('X', 'O')\n",
    "    player1_marker, player2_marker = player\n",
    "    \n",
    "    # set up everything: who is first, choose marker X or O\n",
    "    turn = 'Player 1'\n",
    "    \n",
    "    play_game = ''\n",
    "    while play_game.upper() != 'Y':\n",
    "        clear_output()\n",
    "        print(\"Player 1 = 'X' and Player 2 = 'O'\")\n",
    "        print('Player 1 will go first')\n",
    "        play_game = input(\"Enter 'Y' for start the game\")\n",
    "    if play_game.upper() == 'Y':\n",
    "        game_on = True\n",
    "    else:\n",
    "        game_on = False\n",
    "\n",
    "    # game start\n",
    "    while game_on:\n",
    "        \n",
    "        # player 1\n",
    "        if turn == 'Player 1':\n",
    "            \n",
    "            display_board(my_board) # show the board\n",
    "            position = player_choice(my_board) # choose a position\n",
    "            place_marker(my_board, player1_marker, position) # place the marker on the position\n",
    "\n",
    "            # check if they win\n",
    "            if win_check(my_board, player1_marker):\n",
    "                display_board(my_board)\n",
    "                print('Player 1 has won!')\n",
    "                game_on = False\n",
    "                \n",
    "            # check if there is a tie\n",
    "            else:\n",
    "                if full_board_check(my_board):\n",
    "                    display_board(my_board)\n",
    "                    print('The game is a draw!')\n",
    "                    break\n",
    "                else:\n",
    "                    turn = 'Player 2'\n",
    "\n",
    "        # player 2 (same as player 1)\n",
    "        else:\n",
    "            \n",
    "            display_board(my_board) # show the board\n",
    "            position = player_choice(my_board) # choose a position\n",
    "            place_marker(my_board, player2_marker, position) # place the marker on the position\n",
    "\n",
    "            # check if they win\n",
    "            if win_check(my_board, player2_marker):\n",
    "                display_board(my_board)\n",
    "                print('Player 2 has won!')\n",
    "                game_on = False\n",
    "                \n",
    "            # check if there is a tie\n",
    "            else:\n",
    "                if full_board_check(my_board):\n",
    "                    display_board(my_board)\n",
    "                    print('It is a draw!')\n",
    "                    break\n",
    "                else:\n",
    "                    turn = 'Player 1'\n",
    "\n",
    "    #break out from the while loop in replay\n",
    "    if not replay():\n",
    "        break"
   ]
  },
  {
   "cell_type": "code",
   "execution_count": null,
   "metadata": {},
   "outputs": [],
   "source": []
  }
 ],
 "metadata": {
  "kernelspec": {
   "display_name": "Python 3",
   "language": "python",
   "name": "python3"
  },
  "language_info": {
   "codemirror_mode": {
    "name": "ipython",
    "version": 3
   },
   "file_extension": ".py",
   "mimetype": "text/x-python",
   "name": "python",
   "nbconvert_exporter": "python",
   "pygments_lexer": "ipython3",
   "version": "3.7.6"
  }
 },
 "nbformat": 4,
 "nbformat_minor": 4
}
